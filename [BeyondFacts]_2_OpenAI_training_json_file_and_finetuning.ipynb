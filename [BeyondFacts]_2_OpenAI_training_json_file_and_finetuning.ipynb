{
 "cells": [
  {
   "cell_type": "markdown",
   "id": "fJ4JAfmuPJC7",
   "metadata": {
    "id": "fJ4JAfmuPJC7"
   },
   "source": [
    "# Initializing the setup"
   ]
  },
  {
   "cell_type": "code",
   "execution_count": null,
   "id": "82528ac9-5f34-4b07-bf0c-fe20202618a9",
   "metadata": {
    "id": "82528ac9-5f34-4b07-bf0c-fe20202618a9"
   },
   "outputs": [],
   "source": [
    "!pip install openai==0.28\n",
    "import pandas as pd\n",
    "import openai"
   ]
  },
  {
   "cell_type": "code",
   "execution_count": null,
   "id": "b8jWzpVRL2jI",
   "metadata": {
    "id": "b8jWzpVRL2jI"
   },
   "outputs": [],
   "source": [
    "from IPython.display import clear_output\n",
    "import time\n",
    "\n",
    "from sklearn.model_selection import train_test_split\n",
    "from sklearn.utils import resample\n",
    "import json"
   ]
  },
  {
   "cell_type": "code",
   "execution_count": null,
   "id": "67f69062-8bbb-4fe6-8e59-1e8e29a5601a",
   "metadata": {
    "id": "67f69062-8bbb-4fe6-8e59-1e8e29a5601a"
   },
   "outputs": [],
   "source": [
    "openai.api_key = ### OPENAI API KEY ###"
   ]
  },
  {
   "cell_type": "markdown",
   "id": "0a4_RO3GBPG7",
   "metadata": {
    "id": "0a4_RO3GBPG7"
   },
   "source": [
    "# Open dataframe"
   ]
  },
  {
   "cell_type": "code",
   "execution_count": null,
   "id": "c0r1ioxLBk18",
   "metadata": {
    "id": "c0r1ioxLBk18"
   },
   "outputs": [],
   "source": [
    "load_path = 'data/data_final.csv'\n",
    "\n",
    "original_df = pd.read_csv(load_path, index_col=[0])"
   ]
  },
  {
   "cell_type": "code",
   "execution_count": null,
   "id": "JOpggYq3NAgB",
   "metadata": {
    "id": "JOpggYq3NAgB"
   },
   "outputs": [],
   "source": [
    "# Fully integrated code with resampling for unbalanced data\n",
    "def get_train_and_validation_sets(original_df, model_name, balanced, reversed=False):\n",
    "    if balanced == True:\n",
    "        b_suffix = '_balanced'\n",
    "    elif balanced == False:\n",
    "        b_suffix = '_unbalanced'\n",
    "\n",
    "    if reversed == True:\n",
    "        suffix = '_reversed'\n",
    "    elif reversed == False:\n",
    "        suffix = ''\n",
    "\n",
    "    training_list = []\n",
    "    for index, row in original_df.iterrows():\n",
    "        entailment = {'old_index': index,\n",
    "                      'claim_number': row['claim_number'],\n",
    "                      'claim': row['claim'],\n",
    "                      'generated_tweet': row[f'generated_entail_tweet{suffix}_{model_name}'],\n",
    "                      'ground_truth': 'ENTAILMENT'}\n",
    "        neutral = {'old_index': index,\n",
    "                   'claim_number': row['claim_number'],\n",
    "                   'claim': row['claim'],\n",
    "                   'generated_tweet': row[f'generated_neutral_tweet{suffix}_{model_name}'],\n",
    "                   'ground_truth': 'NEUTRAL'}\n",
    "        contradiction = {'old_index': index,\n",
    "                         'claim_number': row['claim_number'],\n",
    "                         'claim': row['claim'],\n",
    "                         'generated_tweet': row[f'generated_contradict_tweet{suffix}_{model_name}'],\n",
    "                         'ground_truth': 'CONTRADICTION'}\n",
    "\n",
    "        training_list.extend([contradiction, entailment, neutral])\n",
    "\n",
    "    df = pd.DataFrame(training_list)\n",
    "\n",
    "    if balanced == False:\n",
    "        # Separate the classes\n",
    "        df_entailment = df[df.ground_truth == 'ENTAILMENT']\n",
    "        df_neutral = df[df.ground_truth == 'NEUTRAL']\n",
    "        df_contradiction = df[df.ground_truth == 'CONTRADICTION']\n",
    "\n",
    "        # Define new sample sizes\n",
    "        n_total = len(df)\n",
    "        n_entailment = int(0.5 * n_total)\n",
    "        n_neutral = int(0.35 * n_total)\n",
    "        n_contradiction = n_total - n_entailment - n_neutral\n",
    "\n",
    "        # Resample the DataFrames\n",
    "        df_entailment_resampled = resample(df_entailment, replace=True, n_samples=n_entailment, random_state=42)\n",
    "        df_neutral_resampled = resample(df_neutral, replace=True, n_samples=n_neutral, random_state=42)\n",
    "        df_contradiction_resampled = resample(df_contradiction, replace=False, n_samples=n_contradiction, random_state=42)\n",
    "\n",
    "        # Concatenate the resampled DataFrames\n",
    "        df = pd.concat([df_entailment_resampled, df_neutral_resampled, df_contradiction_resampled])\n",
    "\n",
    "    # Shuffle the DataFrame\n",
    "    df = df.sample(frac=1, random_state=42).reset_index(drop=True)\n",
    "\n",
    "    # Split the data into training and validation sets (80:20)\n",
    "    train_df, val_df = train_test_split(df, test_size=0.2, random_state=42)\n",
    "\n",
    "    # Function to create dataset from DataFrame\n",
    "    def create_dataset(df, reversed):\n",
    "        dataset = []\n",
    "        for i, row in df.iterrows():\n",
    "            tweet = row['generated_tweet']\n",
    "            claim = row['claim']\n",
    "            ground_truth = row['ground_truth']\n",
    "            if reversed == False:\n",
    "                datum = {\n",
    "                    \"messages\": [\n",
    "                        {\"role\": \"system\", \"content\": f\"\"\"Which of the following best describes the relationship between TWEET and CLAIM?\n",
    "\n",
    "If TWEET is true:\n",
    "(ENTAILMENT) then CLAIM is also true.\n",
    "(NEUTRAL) CLAIM cannot be said to be true or false.\n",
    "(CONTRADICTION) then CLAIM is false.\"\"\"},\n",
    "                        {\"role\": \"user\", \"content\": f\"TWEET: {tweet}\\nCLAIM: {claim}\\nANSWER:\"},\n",
    "                        {\"role\": \"assistant\", \"content\": f\"{ground_truth}\"}\n",
    "                    ]\n",
    "                }\n",
    "            elif reversed == True:\n",
    "                datum = {\n",
    "                    \"messages\": [\n",
    "                        {\"role\": \"system\", \"content\": f\"\"\"Which of the following best describes the relationship between TWEET and CLAIM?\n",
    "\n",
    "If TWEET is true:\n",
    "(ENTAILMENT) then CLAIM is also true.\n",
    "(NEUTRAL) CLAIM cannot be said to be true or false.\n",
    "(CONTRADICTION) then CLAIM is false.\"\"\"},\n",
    "                        {\"role\": \"user\", \"content\": f\"CLAIM: {claim}\\nTWEET: {tweet}\\nANSWER:\"},\n",
    "                        {\"role\": \"assistant\", \"content\": f\"{ground_truth}\"}\n",
    "                    ]\n",
    "                }\n",
    "            dataset.append(datum)\n",
    "        return dataset\n",
    "\n",
    "    # Create train and validation datasets\n",
    "    train_dataset = create_dataset(train_df, reversed)\n",
    "    val_dataset = create_dataset(val_df, reversed)\n",
    "\n",
    "    # Save the datasets as JSON files\n",
    "    with open(f'data/openai_train_json/train_{model_name}{b_suffix}{suffix}.jsonl', 'w') as f:\n",
    "\n",
    "        for d in train_dataset:\n",
    "            # Convert dictionary to JSON-formatted string\n",
    "            json_str = json.dumps(d)\n",
    "\n",
    "            # Write to file\n",
    "            f.write(json_str + \"\\n\")\n",
    "\n",
    "    with open(f'data/openai_train_json/val_{model_name}{b_suffix}{suffix}.jsonl', 'w') as f:\n",
    "\n",
    "        for d in val_dataset:\n",
    "            # Convert dictionary to JSON-formatted string\n",
    "            json_str = json.dumps(d)\n",
    "\n",
    "            # Write to file\n",
    "            f.write(json_str + \"\\n\")\n",
    "\n",
    "    return train_df, val_df, train_dataset, val_dataset\n"
   ]
  },
  {
   "cell_type": "code",
   "execution_count": null,
   "id": "0R0ohmeENxlh",
   "metadata": {
    "id": "0R0ohmeENxlh"
   },
   "outputs": [],
   "source": [
    "train_df, val_df, train_dataset, val_dataset = get_train_and_validation_sets(original_df, 'gpt-4', balanced=True, reversed=False)\n",
    "train_df, val_df, train_dataset, val_dataset = get_train_and_validation_sets(original_df, 'gpt-4', balanced=True, reversed=True)\n",
    "train_df, val_df, train_dataset, val_dataset = get_train_and_validation_sets(original_df, 'gpt-4', balanced=False, reversed=False)\n",
    "train_df, val_df, train_dataset, val_dataset = get_train_and_validation_sets(original_df, 'gpt-4', balanced=False, reversed=True)\n",
    "\n",
    "train_df, val_df, train_dataset, val_dataset = get_train_and_validation_sets(original_df, 'gpt-3_5', balanced=True, reversed=False)\n",
    "train_df, val_df, train_dataset, val_dataset = get_train_and_validation_sets(original_df, 'gpt-3_5', balanced=True, reversed=True)\n",
    "train_df, val_df, train_dataset, val_dataset = get_train_and_validation_sets(original_df, 'gpt-3_5', balanced=False, reversed=False)\n",
    "train_df, val_df, train_dataset, val_dataset = get_train_and_validation_sets(original_df, 'gpt-3_5', balanced=False, reversed=True)\n",
    "\n",
    "train_df, val_df, train_dataset, val_dataset = get_train_and_validation_sets(original_df, '70b', balanced=True, reversed=False)\n",
    "train_df, val_df, train_dataset, val_dataset = get_train_and_validation_sets(original_df, '70b', balanced=True, reversed=True)\n",
    "train_df, val_df, train_dataset, val_dataset = get_train_and_validation_sets(original_df, '70b', balanced=False, reversed=False)\n",
    "train_df, val_df, train_dataset, val_dataset = get_train_and_validation_sets(original_df, '70b', balanced=False, reversed=True)"
   ]
  },
  {
   "cell_type": "markdown",
   "id": "_oA4aCYJL8Yq",
   "metadata": {
    "id": "_oA4aCYJL8Yq"
   },
   "source": [
    "# Make and upload json"
   ]
  },
  {
   "cell_type": "code",
   "execution_count": null,
   "id": "dRMzvcF4UX6N",
   "metadata": {
    "colab": {
     "base_uri": "https://localhost:8080/",
     "height": 211
    },
    "id": "dRMzvcF4UX6N",
    "outputId": "cee29b7e-40a7-4caa-ee6d-3d27e8be66ad"
   },
   "outputs": [],
   "source": [
    "import os\n",
    "\n",
    "# Get list of all files and directories in '/content'\n",
    "files_and_dirs = os.listdir('data/openai_train_json')\n",
    "\n",
    "# If you only want files, not directories, you'll filter it like so:\n",
    "file_list = [f for f in files_and_dirs if os.path.isfile(os.path.join('data/openai_train_json', f))]\n",
    "file_list.sort()\n",
    "file_list"
   ]
  },
  {
   "cell_type": "code",
   "execution_count": null,
   "id": "D8OZvkZ5L-e7",
   "metadata": {
    "id": "D8OZvkZ5L-e7"
   },
   "outputs": [],
   "source": [
    "for file_name in file_list:\n",
    "    openai.File.create(\n",
    "      file=open(file_name, \"rb\"),\n",
    "      purpose='fine-tune'\n",
    "    )"
   ]
  },
  {
   "cell_type": "code",
   "execution_count": null,
   "id": "W_mJOIOomXhV",
   "metadata": {
    "id": "W_mJOIOomXhV"
   },
   "outputs": [],
   "source": [
    "# put your uploaded file names\n",
    "openai_file_dict = {\n",
    " 'train_gpt-4_balanced.jsonl': \"file-iNiTfeZr4A1lAar9D1uzotNl\",\n",
    " 'val_gpt-4_balanced.jsonl': \"file-cMVJ8kld1MU6GAT7O8NmaZxN\",\n",
    " 'train_gpt-4_balanced_reversed.jsonl': \"file-uE5gNiscctDcP4fIv6dBz6tP\",\n",
    " 'val_gpt-4_balanced_reversed.jsonl': \"file-oQQ7bWhJq0mq5PGPhDqCsieu\",\n",
    " 'train_gpt-4_unbalanced.jsonl': \"file-b3ZvVW9JI91Tmv4T176yU4Ww\",\n",
    " 'val_gpt-4_unbalanced.jsonl': \"file-uyEjHXKGZ26gnXumJAlLfIvf\",\n",
    " 'train_gpt-4_unbalanced_reversed.jsonl': \"file-Tvi3kzyboICJALdQeD0eXUKR\",\n",
    " 'val_gpt-4_unbalanced_reversed.jsonl': \"file-xmfPLk0ACVB6DiLiboynOLlS\",\n",
    "\n",
    " 'train_gpt-3_5_balanced.jsonl': \"file-E4k8BKSzRBiOEpWCFd8N8Mth\",\n",
    " 'val_gpt-3_5_balanced.jsonl': \"file-kNN2mhw9WrNwn3F9VWDE6SNh\",\n",
    " 'train_gpt-3_5_balanced_reversed.jsonl': \"file-FRTImyXjC1iUGg4g8DLHufHY\",\n",
    " 'val_gpt-3_5_balanced_reversed.jsonl': \"file-2a0tRyecNNimoagAbJDn7p26\",\n",
    " 'train_gpt-3_5_unbalanced.jsonl': \"file-1ZDla4LrJJtxjwpXnAirsCAq\",\n",
    " 'val_gpt-3_5_unbalanced.jsonl': \"file-xmcEqNAGcI0tTtaRfzTbErzr\",\n",
    " 'train_gpt-3_5_unbalanced_reversed.jsonl': \"file-2caz60Dy2ETA2p0zejA2UV7w\",\n",
    " 'val_gpt-3_5_unbalanced_reversed.jsonl': \"file-JDsy3WletAxpWiU4JBqxTmIG\",\n",
    "\n",
    " 'train_70b_balanced.jsonl': \"file-l7qFQBf8ePTRs0hkK7bed8Si\",\n",
    " 'val_70b_balanced.jsonl': \"file-fTdCf2W4atKGt01nLcrtBtxv\",\n",
    " 'train_70b_balanced_reversed.jsonl': \"file-l7qFQBf8ePTRs0hkK7bed8Si\",\n",
    " 'val_70b_balanced_reversed.jsonl': \"file-eEd9R78BGuxCjhoNiJTiNw41\",\n",
    " 'train_70b_unbalanced.jsonl': \"file-oPpnttKYUo7UhXhc2mpHdn4W\",\n",
    " 'val_70b_unbalanced.jsonl': \"file-eEd9R78BGuxCjhoNiJTiNw41\",\n",
    " 'train_70b_unbalanced_reversed.jsonl': \"file-lhqTqG3OyREo6OWuZY7H090W\",\n",
    " 'val_70b_unbalanced_reversed.jsonl': \"file-haKXibiYdKwDiobOYwmPVRo8\"\n",
    "}"
   ]
  },
  {
   "cell_type": "markdown",
   "id": "a3r7_tN9Sigv",
   "metadata": {
    "id": "a3r7_tN9Sigv"
   },
   "source": [
    "# fine tuning (gpt-3.5-turbo)"
   ]
  },
  {
   "cell_type": "code",
   "execution_count": null,
   "id": "8z7nqmgRLL09",
   "metadata": {
    "id": "8z7nqmgRLL09"
   },
   "outputs": [],
   "source": [
    "while True:\n",
    "    try:\n",
    "        openai.FineTuningJob.create(training_file= openai_file_dict['train_gpt-3_5_balanced.jsonl'],\n",
    "                                    validation_file= openai_file_dict['val_gpt-3_5_balanced.jsonl'],\n",
    "                                    model=\"gpt-3.5-turbo\",\n",
    "                                    hyperparameters={\"n_epochs\":3})\n",
    "        break\n",
    "    except Exception as e:\n",
    "        print(e)\n",
    "        time.sleep(300)"
   ]
  },
  {
   "cell_type": "code",
   "execution_count": null,
   "id": "9sLBaWNaqVAg",
   "metadata": {
    "id": "9sLBaWNaqVAg"
   },
   "outputs": [],
   "source": [
    "while True:\n",
    "    try:\n",
    "        openai.FineTuningJob.create(training_file= openai_file_dict['train_70b_balanced.jsonl'],\n",
    "                                    validation_file= openai_file_dict['val_70b_balanced.jsonl'],\n",
    "                                    model=\"gpt-3.5-turbo\",\n",
    "                                    hyperparameters={\"n_epochs\":3})\n",
    "        break\n",
    "    except Exception as e:\n",
    "        print(e)\n",
    "        time.sleep(300)"
   ]
  },
  {
   "cell_type": "code",
   "execution_count": null,
   "id": "oyYlv-1iYi7L",
   "metadata": {
    "id": "oyYlv-1iYi7L"
   },
   "outputs": [],
   "source": [
    "while True:\n",
    "    try:\n",
    "        openai.FineTuningJob.create(training_file= openai_file_dict['train_gpt-3_5_balanced_reversed.jsonl'],\n",
    "                                    validation_file= openai_file_dict['val_gpt-3_5_balanced_reversed.jsonl'],\n",
    "                                    model=\"gpt-3.5-turbo\",\n",
    "                                    hyperparameters={\"n_epochs\":3})\n",
    "        break\n",
    "    except Exception as e:\n",
    "        print(e)\n",
    "        time.sleep(300)"
   ]
  },
  {
   "cell_type": "code",
   "execution_count": null,
   "id": "aGcRrDQ2qck0",
   "metadata": {
    "colab": {
     "background_save": true
    },
    "id": "aGcRrDQ2qck0"
   },
   "outputs": [],
   "source": [
    "while True:\n",
    "    try:\n",
    "        openai.FineTuningJob.create(training_file= openai_file_dict['train_70b_balanced_reversed.jsonl'],\n",
    "                                    validation_file= openai_file_dict['val_70b_balanced_reversed.jsonl'],\n",
    "                                    model=\"gpt-3.5-turbo\",\n",
    "                                    hyperparameters={\"n_epochs\":3})\n",
    "        break\n",
    "    except Exception as e:\n",
    "        print(e)\n",
    "        time.sleep(300)"
   ]
  },
  {
   "cell_type": "code",
   "execution_count": null,
   "id": "zKfZAt8IYi0E",
   "metadata": {
    "colab": {
     "background_save": true
    },
    "id": "zKfZAt8IYi0E"
   },
   "outputs": [],
   "source": [
    "while True:\n",
    "    try:\n",
    "        openai.FineTuningJob.create(training_file= openai_file_dict['train_gpt-3_5_unbalanced.jsonl'],\n",
    "                                    validation_file= openai_file_dict['val_gpt-3_5_unbalanced.jsonl'],\n",
    "                                    model=\"gpt-3.5-turbo\",\n",
    "                                    hyperparameters={\"n_epochs\":3})\n",
    "        break\n",
    "    except Exception as e:\n",
    "        print(e)\n",
    "        time.sleep(300)"
   ]
  },
  {
   "cell_type": "code",
   "execution_count": null,
   "id": "rL6eu7Knqi9Y",
   "metadata": {
    "colab": {
     "background_save": true
    },
    "id": "rL6eu7Knqi9Y"
   },
   "outputs": [],
   "source": [
    "while True:\n",
    "    try:\n",
    "        openai.FineTuningJob.create(training_file= openai_file_dict['train_70b_unbalanced.jsonl'],\n",
    "                                    validation_file= openai_file_dict['val_70b_unbalanced.jsonl'],\n",
    "                                    model=\"gpt-3.5-turbo\",\n",
    "                                    hyperparameters={\"n_epochs\":3})\n",
    "        break\n",
    "    except Exception as e:\n",
    "        print(e)\n",
    "        time.sleep(300)"
   ]
  },
  {
   "cell_type": "code",
   "execution_count": null,
   "id": "fWjnVvfMYiuU",
   "metadata": {
    "colab": {
     "background_save": true
    },
    "id": "fWjnVvfMYiuU"
   },
   "outputs": [],
   "source": [
    "while True:\n",
    "    try:\n",
    "        openai.FineTuningJob.create(training_file= openai_file_dict['train_gpt-3_5_unbalanced_reversed.jsonl'],\n",
    "                                    validation_file= openai_file_dict['val_gpt-3_5_unbalanced_reversed.jsonl'],\n",
    "                                    model=\"gpt-3.5-turbo\",\n",
    "                                    hyperparameters={\"n_epochs\":3})\n",
    "        break\n",
    "    except Exception as e:\n",
    "        print(e)\n",
    "        time.sleep(300)"
   ]
  },
  {
   "cell_type": "code",
   "execution_count": null,
   "id": "SUdTLgMUqm84",
   "metadata": {
    "colab": {
     "background_save": true
    },
    "id": "SUdTLgMUqm84"
   },
   "outputs": [],
   "source": [
    "while True:\n",
    "    try:\n",
    "        openai.FineTuningJob.create(training_file= openai_file_dict['train_70b_unbalanced_reversed.jsonl'],\n",
    "                                    validation_file= openai_file_dict['val_70b_unbalanced_reversed.jsonl'],\n",
    "                                    model=\"gpt-3.5-turbo\",\n",
    "                                    hyperparameters={\"n_epochs\":3})\n",
    "        break\n",
    "    except Exception as e:\n",
    "        print(e)\n",
    "        time.sleep(300)"
   ]
  },
  {
   "cell_type": "code",
   "execution_count": null,
   "id": "78u4neGWNF9c",
   "metadata": {
    "colab": {
     "background_save": true
    },
    "id": "78u4neGWNF9c"
   },
   "outputs": [],
   "source": [
    "openai.FineTuningJob.list()['data'][0:12]"
   ]
  },
  {
   "cell_type": "code",
   "execution_count": null,
   "id": "FUmcmp2wI4Ok",
   "metadata": {
    "id": "FUmcmp2wI4Ok"
   },
   "outputs": [],
   "source": [
    "# put your trained model names\n",
    "model_dict_gpt_4 = {\n",
    "    # models\n",
    "    }\n",
    "\n",
    "model_dict_gpt_3_5 = {\n",
    "    'balanced': \"ft:gpt-3.5-turbo-0613:usc-annenberg-school::87bgUHHx\",\n",
    "    'balanced_reversed': \"ft:gpt-3.5-turbo-0613:usc-annenberg-school::87bmrCtf\",\n",
    "    'unbalanced': \"ft:gpt-3.5-turbo-0613:usc-annenberg-school::87eYpT1F\",\n",
    "    'unbalanced_reversed': \"ft:gpt-3.5-turbo-0613:usc-annenberg-school::87iD3Nru\"\n",
    "}\n",
    "\n",
    "model_dict_70b = {\n",
    "    # models\n",
    "}"
   ]
  },
  {
   "cell_type": "markdown",
   "id": "f9C4vwwiM8X2",
   "metadata": {
    "id": "f9C4vwwiM8X2"
   },
   "source": [
    "# Test"
   ]
  },
  {
   "cell_type": "code",
   "execution_count": null,
   "id": "FO8U9VOtiuky",
   "metadata": {
    "id": "FO8U9VOtiuky"
   },
   "outputs": [],
   "source": [
    "test_df = pd.read_csv(load_path, index_col=[0])\n",
    "save_path ="
   ]
  },
  {
   "cell_type": "markdown",
   "id": "32QQ3Z4yoWFj",
   "metadata": {
    "id": "32QQ3Z4yoWFj"
   },
   "source": [
    "# Annotation loop (gpt-3.5-turbo example)"
   ]
  },
  {
   "cell_type": "code",
   "execution_count": null,
   "id": "A_4SMNlfBVae",
   "metadata": {
    "id": "A_4SMNlfBVae"
   },
   "outputs": [],
   "source": [
    "start_time = time.time()\n",
    "\n",
    "# Iterate through the DataFrame\n",
    "for i, row in test_df.iterrows():\n",
    "    tweet = row['tweet']\n",
    "    claim = row['claim']\n",
    "\n",
    "    try:\n",
    "        retries = 3\n",
    "        while retries > 0:\n",
    "            try:\n",
    "\n",
    "                if pd.isnull(row['prediction_finetuned_gpt_3_5']):\n",
    "                    completion = openai.ChatCompletion.create(\n",
    "                          model=model_dict_gpt_3_5['balanced'],\n",
    "                          messages=[{'role': 'system', 'content': f\"\"\"Which of the following best describes the relationship between TWEET and CLAIM?\n",
    "\n",
    "If TWEET is true:\n",
    "(ENTAILMENT) then CLAIM is also true.\n",
    "(NEUTRAL) CLAIM cannot be said to be true or false.\n",
    "(CONTRADICTION) then CLAIM is false.\"\"\"},\n",
    "\n",
    "                        {\"role\": \"user\", \"content\": f\"\"\"TWEET: {tweet}\n",
    "CLAIM: {claim}\n",
    "ANSWER:\"\"\"}\n",
    "                          ],\n",
    "                          temperature=0\n",
    "                        )\n",
    "                    test_df.at[i, 'prediction_finetuned_gpt_3_5'] = completion.choices[0].message['content']\n",
    "\n",
    "                break\n",
    "\n",
    "\n",
    "            except openai.error.OpenAIError as e:\n",
    "                print(f\"Error: {e}\")\n",
    "                retries -= 1\n",
    "                time.sleep(5)  # Wait for 5 seconds before\n",
    "\n",
    "    except Exception as e:\n",
    "        print(e)\n",
    "\n",
    "    test_df.to_csv(save_path)\n",
    "\n",
    "    end_time = time.time()\n",
    "    runtime = end_time - start_time\n",
    "\n",
    "    clear_output(wait=True)\n",
    "\n",
    "    print(f\"Iteration: {i+1}, Runtime: {runtime} seconds\")"
   ]
  },
  {
   "cell_type": "code",
   "execution_count": null,
   "id": "snoIpGEsT4yZ",
   "metadata": {
    "colab": {
     "background_save": true
    },
    "id": "snoIpGEsT4yZ"
   },
   "outputs": [],
   "source": [
    "start_time = time.time()\n",
    "\n",
    "# Iterate through the DataFrame\n",
    "for i, row in test_df.iterrows():\n",
    "    tweet = row['tweet']\n",
    "    claim = row['claim']\n",
    "\n",
    "    try:\n",
    "        retries = 3\n",
    "        while retries > 0:\n",
    "            try:\n",
    "\n",
    "                if pd.isnull(row['prediction_finetuned_gpt_3_5_unbalanced']):\n",
    "                    completion = openai.ChatCompletion.create(\n",
    "                          model=model_dict_gpt_3_5['unbalanced'],\n",
    "                          messages=[{'role': 'system', 'content': f\"\"\"Which of the following best describes the relationship between TWEET and CLAIM?\n",
    "\n",
    "If TWEET is true:\n",
    "(ENTAILMENT) then CLAIM is also true.\n",
    "(NEUTRAL) CLAIM cannot be said to be true or false.\n",
    "(CONTRADICTION) then CLAIM is false.\"\"\"},\n",
    "\n",
    "                        {\"role\": \"user\", \"content\": f\"\"\"TWEET: {tweet}\n",
    "CLAIM: {claim}\n",
    "ANSWER:\"\"\"}\n",
    "                          ],\n",
    "                          temperature=0\n",
    "                        )\n",
    "                    test_df.at[i, 'prediction_finetuned_gpt_3_5_unbalanced'] = completion.choices[0].message['content']\n",
    "\n",
    "                break\n",
    "\n",
    "\n",
    "            except openai.error.OpenAIError as e:\n",
    "                print(f\"Error: {e}\")\n",
    "                retries -= 1\n",
    "                time.sleep(5)  # Wait for 5 seconds before\n",
    "\n",
    "    except Exception as e:\n",
    "        print(e)\n",
    "\n",
    "    test_df.to_csv(save_path)\n",
    "\n",
    "    end_time = time.time()\n",
    "    runtime = end_time - start_time\n",
    "\n",
    "    clear_output(wait=True)\n",
    "\n",
    "    print(f\"Iteration: {i+1}, Runtime: {runtime} seconds\")"
   ]
  },
  {
   "cell_type": "code",
   "execution_count": null,
   "id": "RuLIbkevL0H7",
   "metadata": {
    "colab": {
     "background_save": true
    },
    "id": "RuLIbkevL0H7"
   },
   "outputs": [],
   "source": [
    "start_time = time.time()\n",
    "\n",
    "# Iterate through the DataFrame\n",
    "for i, row in test_df.iterrows():\n",
    "    tweet = row['tweet']\n",
    "    claim = row['claim']\n",
    "\n",
    "    try:\n",
    "        retries = 3\n",
    "        while retries > 0:\n",
    "            try:\n",
    "\n",
    "                if pd.isnull(row['prediction_finetuned_gpt_3_5_reversed']):\n",
    "                    completion = openai.ChatCompletion.create(\n",
    "                          model=model_dict_gpt_3_5['balanced_reversed'],\n",
    "                          messages=[{\"role\": \"system\", \"content\": f\"\"\"Which of the following best describes the relationship between CLAIM and TWEET?\n",
    "\n",
    "If CLAIM is true:\n",
    "(ENTAILMENT) then TWEET is also true.\n",
    "(NEUTRAL) TWEET cannot be said to be true or false.\n",
    "(CONTRADICTION) then TWEET is false.\"\"\"},\n",
    "{\"role\": \"user\", \"content\": f\"\"\"CLAIM: {claim}\n",
    "TWEET: {tweet}\n",
    "ANSWER:\"\"\"}\n",
    "                          ],\n",
    "                          temperature=0\n",
    "                        )\n",
    "                    test_df.at[i, 'prediction_finetuned_gpt_3_5_reversed'] = completion.choices[0].message['content']\n",
    "\n",
    "                break\n",
    "\n",
    "\n",
    "            except openai.error.OpenAIError as e:\n",
    "                print(f\"Error: {e}\")\n",
    "                retries -= 1\n",
    "                time.sleep(5)  # Wait for 5 seconds before\n",
    "\n",
    "    except Exception as e:\n",
    "        print(e)\n",
    "\n",
    "    test_df.to_csv(save_path)\n",
    "\n",
    "    end_time = time.time()\n",
    "    runtime = end_time - start_time\n",
    "\n",
    "    clear_output(wait=True)\n",
    "\n",
    "    print(f\"Iteration: {i+1}, Runtime: {runtime} seconds\")"
   ]
  },
  {
   "cell_type": "code",
   "execution_count": null,
   "id": "b_2WZHgKU_Ll",
   "metadata": {
    "colab": {
     "background_save": true
    },
    "id": "b_2WZHgKU_Ll"
   },
   "outputs": [],
   "source": [
    "start_time = time.time()\n",
    "\n",
    "# Iterate through the DataFrame\n",
    "for i, row in test_df.iterrows():\n",
    "    tweet = row['tweet']\n",
    "    claim = row['claim']\n",
    "\n",
    "    try:\n",
    "        retries = 3\n",
    "        while retries > 0:\n",
    "            try:\n",
    "\n",
    "                if pd.isnull(row['prediction_finetuned_gpt_3_5_unbalanced_reversed']):\n",
    "                    completion = openai.ChatCompletion.create(\n",
    "                          model=model_dict_gpt_3_5['unbalanced_reversed'],\n",
    "                          messages=[{\"role\": \"system\", \"content\": f\"\"\"Which of the following best describes the relationship between CLAIM and TWEET?\n",
    "\n",
    "If CLAIM is true:\n",
    "(ENTAILMENT) then TWEET is also true.\n",
    "(NEUTRAL) TWEET cannot be said to be true or false.\n",
    "(CONTRADICTION) then TWEET is false.\"\"\"},\n",
    "{\"role\": \"user\", \"content\": f\"\"\"CLAIM: {claim}\n",
    "TWEET: {tweet}\n",
    "ANSWER:\"\"\"}\n",
    "                          ],\n",
    "                          temperature=0\n",
    "                        )\n",
    "                    test_df.at[i, 'prediction_finetuned_gpt_3_5_unbalanced_reversed'] = completion.choices[0].message['content']\n",
    "\n",
    "                break\n",
    "\n",
    "\n",
    "            except openai.error.OpenAIError as e:\n",
    "                print(f\"Error: {e}\")\n",
    "                retries -= 1\n",
    "                time.sleep(5)  # Wait for 5 seconds before\n",
    "\n",
    "    except Exception as e:\n",
    "        print(e)\n",
    "\n",
    "    test_df.to_csv(save_path)\n",
    "\n",
    "    end_time = time.time()\n",
    "    runtime = end_time - start_time\n",
    "\n",
    "    clear_output(wait=True)\n",
    "\n",
    "    print(f\"Iteration: {i+1}, Runtime: {runtime} seconds\")"
   ]
  }
 ],
 "metadata": {
  "colab": {
   "provenance": []
  },
  "kernelspec": {
   "display_name": "Python 3 (ipykernel)",
   "language": "python",
   "name": "python3"
  },
  "language_info": {
   "codemirror_mode": {
    "name": "ipython",
    "version": 3
   },
   "file_extension": ".py",
   "mimetype": "text/x-python",
   "name": "python",
   "nbconvert_exporter": "python",
   "pygments_lexer": "ipython3",
   "version": "3.9.13"
  }
 },
 "nbformat": 4,
 "nbformat_minor": 5
}
